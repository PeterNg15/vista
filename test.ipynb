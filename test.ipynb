{
 "cells": [
  {
   "cell_type": "code",
   "execution_count": 1,
   "metadata": {},
   "outputs": [
    {
     "name": "stderr",
     "output_type": "stream",
     "text": [
      "\u001b[93m2023-04-29 23:09:53,431::WARNING::[d:\\Research\\MIT DRL\\VISTA\\vista\\entities\\sensors\\EventCamera.<module>] Fail to import module for event camera. Remember to do source <some-dir>/openeb/build/utils/scripts/setup_env.shCan ignore this if not using it\u001b[0;0m\n"
     ]
    }
   ],
   "source": [
    "import numpy as np\n",
    "import os\n",
    "import cv2\n",
    "\n",
    "import vista\n",
    "from vista.utils import transform\n",
    "from vista.entities.agents.Dynamics import tireangle2curvature\n",
    "import matplotlib.pyplot as plt"
   ]
  },
  {
   "cell_type": "code",
   "execution_count": 2,
   "metadata": {},
   "outputs": [],
   "source": [
    "def follow_human_trajectory(agent):\n",
    "    action = np.array([\n",
    "        agent.trace.f_curvature(agent.timestamp),\n",
    "        agent.trace.f_speed(agent.timestamp)\n",
    "    ])\n",
    "    return action\n",
    "\n",
    "\n",
    "def pure_pursuit_controller(agent):\n",
    "    # hyperparameters\n",
    "    lookahead_dist = 5.\n",
    "    Kp = 3.\n",
    "    dt = 1 / 30.\n",
    "\n",
    "    # get road in ego-car coordinates\n",
    "    ego_pose = agent.ego_dynamics.numpy()[:3]\n",
    "    road_in_ego = np.array([\n",
    "        transform.compute_relative_latlongyaw(_v[:3], ego_pose)\n",
    "        for _v in agent.road\n",
    "    ])\n",
    "\n",
    "    # find (lookahead) target\n",
    "    dist = np.linalg.norm(road_in_ego[:, :2], axis=1)\n",
    "    dist[road_in_ego[:, 1] < 0] = 9999.  # drop road in the back\n",
    "    tgt_idx = np.argmin(np.abs(dist - lookahead_dist))\n",
    "    dx, dy, dyaw = road_in_ego[tgt_idx]\n",
    "\n",
    "    # simply follow human trajectory for speed\n",
    "    speed = agent.human_speed\n",
    "\n",
    "    # compute curvature\n",
    "    arc_len = speed * dt\n",
    "    curvature = (Kp * np.arctan2(-dx, dy) * dt) / arc_len\n",
    "    curvature_bound = [\n",
    "        tireangle2curvature(_v, agent.wheel_base)\n",
    "        for _v in agent.ego_dynamics.steering_bound\n",
    "    ]\n",
    "    curvature = np.clip(curvature, *curvature_bound)\n",
    "\n",
    "    return np.array([curvature, speed])\n"
   ]
  },
  {
   "cell_type": "code",
   "execution_count": null,
   "metadata": {},
   "outputs": [
    {
     "name": "stderr",
     "output_type": "stream",
     "text": [
      "\u001b[93m2023-04-29 23:07:43,537::WARNING::[d:\\Research\\MIT DRL\\VISTA\\vista\\core\\Trace._divide_to_good_segments] No video_label.csv\u001b[0;0m\n"
     ]
    }
   ],
   "source": [
    "trace_paths = [\"./vista_traces/20210726-131322_lexus_devens_center/\"]\n",
    "world = vista.World(trace_paths,\n",
    "                    trace_config={'road_width': 4})\n",
    "car = world.spawn_agent(config={'length': 5.,\n",
    "                                'width': 2.,\n",
    "                                'wheel_base': 2.78,\n",
    "                                'steering_ratio': 14.7,\n",
    "                                'lookahead_road': True})\n",
    "display = vista.Display(world)\n",
    "\n",
    "state_space_controller = [follow_human_trajectory, pure_pursuit_controller][1]\n",
    "\n",
    "world.reset()\n",
    "display.reset()\n",
    "\n",
    "while not car.done:\n",
    "    action = state_space_controller(car)\n",
    "    car.step_dynamics(action)\n",
    "\n",
    "    vis_img = display.render()\n",
    "    plt.imshow(vis_img)\n",
    "    plt.show()\n",
    "\n"
   ]
  },
  {
   "cell_type": "code",
   "execution_count": 2,
   "metadata": {},
   "outputs": [
    {
     "name": "stderr",
     "output_type": "stream",
     "text": [
      "\u001b[93m2023-04-29 14:08:30,899::WARNING::[d:\\Research\\MIT DRL\\VISTA\\vista\\core\\Trace._divide_to_good_segments] No video_label.csv\u001b[0;0m\n"
     ]
    },
    {
     "data": {
      "image/png": "[encoded data removed]",
      "text/plain": [
       "<Figure size 320x320 with 1 Axes>"
      ]
     },
     "metadata": {},
     "output_type": "display_data"
    }
   ],
   "source": [
    "import vista\n",
    "\n",
    "trace_paths = [\"./vista_traces/20210726-131322_lexus_devens_center/\"]\n",
    "world = vista.World(trace_paths,\n",
    "                    trace_config={'road_width': 4})\n",
    "car = world.spawn_agent(config={'length': 5.,\n",
    "                                'width': 2.,\n",
    "                                'wheel_base': 2.78,\n",
    "                                'steering_ratio': 14.7,\n",
    "                                'lookahead_road': True})\n",
    "display = vista.Display(world)"
   ]
  },
  {
   "cell_type": "code",
   "execution_count": 7,
   "metadata": {},
   "outputs": [
    {
     "data": {
      "text/plain": [
       "-1"
      ]
     },
     "execution_count": 7,
     "metadata": {},
     "output_type": "execute_result"
    },
    {
     "ename": "",
     "evalue": "",
     "output_type": "error",
     "traceback": [
      "\u001b[1;31mThe Kernel crashed while executing code in the the current cell or a previous cell. Please review the code in the cell(s) to identify a possible cause of the failure. Click <a href='https://aka.ms/vscodeJupyterKernelCrash'>here</a> for more info. View Jupyter <a href='command:jupyter.viewOutput'>log</a> for further details."
     ]
    }
   ],
   "source": [
    "import numpy as np\n",
    "import matplotlib.pyplot as plt\n",
    "\n",
    "frames = []\n",
    "cap = cv2.VideoCapture('./vista_traces/20210726-131912_lexus_devens_center_reverse/camera_front.avi')\n",
    "while True:\n",
    "    read, frame= cap.read()\n",
    "    if not read:\n",
    "        break\n",
    "    frames.append(frame)\n",
    "    break\n",
    "frames = np.array(frames)\n",
    "cv2.imshow('Visualize event data', frames[0])\n",
    "cv2.waitKey(1)"
   ]
  }
 ],
 "metadata": {
  "kernelspec": {
   "display_name": "Python 3.8.16 ('vista')",
   "language": "python",
   "name": "python3"
  },
  "language_info": {
   "codemirror_mode": {
    "name": "ipython",
    "version": 3
   },
   "file_extension": ".py",
   "mimetype": "text/x-python",
   "name": "python",
   "nbconvert_exporter": "python",
   "pygments_lexer": "ipython3",
   "version": "3.8.16"
  },
  "orig_nbformat": 4,
  "vscode": {
   "interpreter": {
    "hash": "f9ef3b0e70c3eb89f5d43eb5510e5efb1cea1fa3f666a2d48ba1e6d642156fd3"
   }
  }
 },
 "nbformat": 4,
 "nbformat_minor": 2
}
