{
 "cells": [
  {
   "cell_type": "code",
   "execution_count": 4,
   "metadata": {},
   "outputs": [
    {
     "name": "stderr",
     "output_type": "stream",
     "text": [
      "\u001b[93m2023-04-27 02:07:09,537::WARNING::[d:\\Research\\MIT DRL\\VISTA\\vista\\entities\\sensors\\EventCamera.<module>] Fail to import module for event camera. Remember to do source <some-dir>/openeb/build/utils/scripts/setup_env.shCan ignore this if not using it\u001b[0;0m\n"
     ]
    },
    {
     "ename": "FileNotFoundError",
     "evalue": "a\\speed.csv not found.",
     "output_type": "error",
     "traceback": [
      "\u001b[1;31m---------------------------------------------------------------------------\u001b[0m",
      "\u001b[1;31mFileNotFoundError\u001b[0m                         Traceback (most recent call last)",
      "Cell \u001b[1;32mIn[4], line 3\u001b[0m\n\u001b[0;32m      1\u001b[0m \u001b[39mimport\u001b[39;00m \u001b[39mvista\u001b[39;00m\n\u001b[1;32m----> 3\u001b[0m world \u001b[39m=\u001b[39m vista\u001b[39m.\u001b[39;49mWorld([\u001b[39m\"\u001b[39;49m\u001b[39ma\u001b[39;49m\u001b[39m\"\u001b[39;49m], trace_config\u001b[39m=\u001b[39;49m{\u001b[39m'\u001b[39;49m\u001b[39mroad_width\u001b[39;49m\u001b[39m'\u001b[39;49m: \u001b[39m4\u001b[39;49m})\n\u001b[0;32m      4\u001b[0m car \u001b[39m=\u001b[39m world\u001b[39m.\u001b[39mspawn_agent(config\u001b[39m=\u001b[39m{\u001b[39m'\u001b[39m\u001b[39mlength\u001b[39m\u001b[39m'\u001b[39m: \u001b[39m5.\u001b[39m,\n\u001b[0;32m      5\u001b[0m                                 \u001b[39m'\u001b[39m\u001b[39mwidth\u001b[39m\u001b[39m'\u001b[39m: \u001b[39m2.\u001b[39m,\n\u001b[0;32m      6\u001b[0m                                 \u001b[39m'\u001b[39m\u001b[39mwheel_base\u001b[39m\u001b[39m'\u001b[39m: \u001b[39m2.78\u001b[39m,\n\u001b[0;32m      7\u001b[0m                                 \u001b[39m'\u001b[39m\u001b[39msteering_ratio\u001b[39m\u001b[39m'\u001b[39m: \u001b[39m14.7\u001b[39m,\n\u001b[0;32m      8\u001b[0m                                 \u001b[39m'\u001b[39m\u001b[39mlookahead_road\u001b[39m\u001b[39m'\u001b[39m: \u001b[39mTrue\u001b[39;00m})\n\u001b[0;32m      9\u001b[0m display \u001b[39m=\u001b[39m vista\u001b[39m.\u001b[39mDisplay(world)\n",
      "File \u001b[1;32md:\\Research\\MIT DRL\\VISTA\\vista\\core\\World.py:32\u001b[0m, in \u001b[0;36mWorld.__init__\u001b[1;34m(self, trace_paths, trace_config)\u001b[0m\n\u001b[0;32m     28\u001b[0m \u001b[39mdef\u001b[39;00m \u001b[39m__init__\u001b[39m(\n\u001b[0;32m     29\u001b[0m     \u001b[39mself\u001b[39m, trace_paths: List[\u001b[39mstr\u001b[39m],\n\u001b[0;32m     30\u001b[0m     trace_config: Optional[Dict] \u001b[39m=\u001b[39m \u001b[39mdict\u001b[39m()) \u001b[39m-\u001b[39m\u001b[39m>\u001b[39m \u001b[39mNone\u001b[39;00m:\n\u001b[0;32m     31\u001b[0m     \u001b[39m# A list of traces that define the world\u001b[39;00m\n\u001b[1;32m---> 32\u001b[0m     \u001b[39mself\u001b[39m\u001b[39m.\u001b[39m_traces: List[Trace] \u001b[39m=\u001b[39m [\n\u001b[0;32m     33\u001b[0m         Trace(trace_path, trace_config) \u001b[39mfor\u001b[39;00m trace_path \u001b[39min\u001b[39;00m trace_paths\n\u001b[0;32m     34\u001b[0m     ]\n\u001b[0;32m     36\u001b[0m     \u001b[39m# A list of agents within this world. Agents start in a single\u001b[39;00m\n\u001b[0;32m     37\u001b[0m     \u001b[39m# trace but can be teleported between traces, since they are all in\u001b[39;00m\n\u001b[0;32m     38\u001b[0m     \u001b[39m# the same world.\u001b[39;00m\n\u001b[0;32m     39\u001b[0m     \u001b[39mself\u001b[39m\u001b[39m.\u001b[39m_agents: List[Car] \u001b[39m=\u001b[39m []\n",
      "File \u001b[1;32md:\\Research\\MIT DRL\\VISTA\\vista\\core\\World.py:33\u001b[0m, in \u001b[0;36m<listcomp>\u001b[1;34m(.0)\u001b[0m\n\u001b[0;32m     28\u001b[0m \u001b[39mdef\u001b[39;00m \u001b[39m__init__\u001b[39m(\n\u001b[0;32m     29\u001b[0m     \u001b[39mself\u001b[39m, trace_paths: List[\u001b[39mstr\u001b[39m],\n\u001b[0;32m     30\u001b[0m     trace_config: Optional[Dict] \u001b[39m=\u001b[39m \u001b[39mdict\u001b[39m()) \u001b[39m-\u001b[39m\u001b[39m>\u001b[39m \u001b[39mNone\u001b[39;00m:\n\u001b[0;32m     31\u001b[0m     \u001b[39m# A list of traces that define the world\u001b[39;00m\n\u001b[0;32m     32\u001b[0m     \u001b[39mself\u001b[39m\u001b[39m.\u001b[39m_traces: List[Trace] \u001b[39m=\u001b[39m [\n\u001b[1;32m---> 33\u001b[0m         Trace(trace_path, trace_config) \u001b[39mfor\u001b[39;00m trace_path \u001b[39min\u001b[39;00m trace_paths\n\u001b[0;32m     34\u001b[0m     ]\n\u001b[0;32m     36\u001b[0m     \u001b[39m# A list of agents within this world. Agents start in a single\u001b[39;00m\n\u001b[0;32m     37\u001b[0m     \u001b[39m# trace but can be teleported between traces, since they are all in\u001b[39;00m\n\u001b[0;32m     38\u001b[0m     \u001b[39m# the same world.\u001b[39;00m\n\u001b[0;32m     39\u001b[0m     \u001b[39mself\u001b[39m\u001b[39m.\u001b[39m_agents: List[Car] \u001b[39m=\u001b[39m []\n",
      "File \u001b[1;32md:\\Research\\MIT DRL\\VISTA\\vista\\core\\Trace.py:59\u001b[0m, in \u001b[0;36mTrace.__init__\u001b[1;34m(self, trace_path, trace_config)\u001b[0m\n\u001b[0;32m     56\u001b[0m \u001b[39mself\u001b[39m\u001b[39m.\u001b[39m_config: Dict \u001b[39m=\u001b[39m misc\u001b[39m.\u001b[39mmerge_dict(trace_config, \u001b[39mself\u001b[39m\u001b[39m.\u001b[39mDEFAULT_CONFIG)\n\u001b[0;32m     58\u001b[0m \u001b[39m# Get function representation of state information\u001b[39;00m\n\u001b[1;32m---> 59\u001b[0m \u001b[39mself\u001b[39m\u001b[39m.\u001b[39m_f_speed, \u001b[39mself\u001b[39m\u001b[39m.\u001b[39m_f_curvature \u001b[39m=\u001b[39m \u001b[39mself\u001b[39;49m\u001b[39m.\u001b[39;49m_get_states_func()\n\u001b[0;32m     61\u001b[0m \u001b[39m# Divide trace to good segments based on video labels and timestamps\u001b[39;00m\n\u001b[0;32m     62\u001b[0m \u001b[39mself\u001b[39m\u001b[39m.\u001b[39m_multi_sensor: MultiSensor \u001b[39m=\u001b[39m MultiSensor(\n\u001b[0;32m     63\u001b[0m     \u001b[39mself\u001b[39m\u001b[39m.\u001b[39m_trace_path, \u001b[39mself\u001b[39m\u001b[39m.\u001b[39m_config[\u001b[39m'\u001b[39m\u001b[39mmaster_sensor\u001b[39m\u001b[39m'\u001b[39m])\n",
      "File \u001b[1;32md:\\Research\\MIT DRL\\VISTA\\vista\\core\\Trace.py:279\u001b[0m, in \u001b[0;36mTrace._get_states_func\u001b[1;34m(self)\u001b[0m\n\u001b[0;32m    269\u001b[0m \u001b[39m\u001b[39m\u001b[39m\"\"\" Read speed and IMU data from the dataset and perform 1D interpolation to convert\u001b[39;00m\n\u001b[0;32m    270\u001b[0m \u001b[39mdiscrete data points to continuous functions. Curvature is computed as yaw rate (from\u001b[39;00m\n\u001b[0;32m    271\u001b[0m \u001b[39mIMU) divided by speed.\u001b[39;00m\n\u001b[1;32m   (...)\u001b[0m\n\u001b[0;32m    276\u001b[0m \n\u001b[0;32m    277\u001b[0m \u001b[39m\"\"\"\u001b[39;00m\n\u001b[0;32m    278\u001b[0m \u001b[39m# Read from dataset\u001b[39;00m\n\u001b[1;32m--> 279\u001b[0m speed \u001b[39m=\u001b[39m np\u001b[39m.\u001b[39;49mgenfromtxt(os\u001b[39m.\u001b[39;49mpath\u001b[39m.\u001b[39;49mjoin(\u001b[39mself\u001b[39;49m\u001b[39m.\u001b[39;49m_trace_path,\n\u001b[0;32m    280\u001b[0m                                    TopicNames\u001b[39m.\u001b[39;49mspeed \u001b[39m+\u001b[39;49m \u001b[39m'\u001b[39;49m\u001b[39m.csv\u001b[39;49m\u001b[39m'\u001b[39;49m),\n\u001b[0;32m    281\u001b[0m                       delimiter\u001b[39m=\u001b[39;49m\u001b[39m'\u001b[39;49m\u001b[39m,\u001b[39;49m\u001b[39m'\u001b[39;49m)\n\u001b[0;32m    282\u001b[0m imu \u001b[39m=\u001b[39m np\u001b[39m.\u001b[39mgenfromtxt(os\u001b[39m.\u001b[39mpath\u001b[39m.\u001b[39mjoin(\u001b[39mself\u001b[39m\u001b[39m.\u001b[39m_trace_path,\n\u001b[0;32m    283\u001b[0m                                  TopicNames\u001b[39m.\u001b[39mimu \u001b[39m+\u001b[39m \u001b[39m'\u001b[39m\u001b[39m.csv\u001b[39m\u001b[39m'\u001b[39m),\n\u001b[0;32m    284\u001b[0m                     delimiter\u001b[39m=\u001b[39m\u001b[39m'\u001b[39m\u001b[39m,\u001b[39m\u001b[39m'\u001b[39m)\n\u001b[0;32m    286\u001b[0m \u001b[39m# Obtain function representation of speed\u001b[39;00m\n",
      "File \u001b[1;32mc:\\Users\\Tanph\\anaconda3\\envs\\raft\\lib\\site-packages\\numpy\\lib\\npyio.py:1959\u001b[0m, in \u001b[0;36mgenfromtxt\u001b[1;34m(fname, dtype, comments, delimiter, skip_header, skip_footer, converters, missing_values, filling_values, usecols, names, excludelist, deletechars, replace_space, autostrip, case_sensitive, defaultfmt, unpack, usemask, loose, invalid_raise, max_rows, encoding, ndmin, like)\u001b[0m\n\u001b[0;32m   1957\u001b[0m     fname \u001b[39m=\u001b[39m os_fspath(fname)\n\u001b[0;32m   1958\u001b[0m \u001b[39mif\u001b[39;00m \u001b[39misinstance\u001b[39m(fname, \u001b[39mstr\u001b[39m):\n\u001b[1;32m-> 1959\u001b[0m     fid \u001b[39m=\u001b[39m np\u001b[39m.\u001b[39;49mlib\u001b[39m.\u001b[39;49m_datasource\u001b[39m.\u001b[39;49mopen(fname, \u001b[39m'\u001b[39;49m\u001b[39mrt\u001b[39;49m\u001b[39m'\u001b[39;49m, encoding\u001b[39m=\u001b[39;49mencoding)\n\u001b[0;32m   1960\u001b[0m     fid_ctx \u001b[39m=\u001b[39m contextlib\u001b[39m.\u001b[39mclosing(fid)\n\u001b[0;32m   1961\u001b[0m \u001b[39melse\u001b[39;00m:\n",
      "File \u001b[1;32mc:\\Users\\Tanph\\anaconda3\\envs\\raft\\lib\\site-packages\\numpy\\lib\\_datasource.py:193\u001b[0m, in \u001b[0;36mopen\u001b[1;34m(path, mode, destpath, encoding, newline)\u001b[0m\n\u001b[0;32m    156\u001b[0m \u001b[39m\u001b[39m\u001b[39m\"\"\"\u001b[39;00m\n\u001b[0;32m    157\u001b[0m \u001b[39mOpen `path` with `mode` and return the file object.\u001b[39;00m\n\u001b[0;32m    158\u001b[0m \n\u001b[1;32m   (...)\u001b[0m\n\u001b[0;32m    189\u001b[0m \n\u001b[0;32m    190\u001b[0m \u001b[39m\"\"\"\u001b[39;00m\n\u001b[0;32m    192\u001b[0m ds \u001b[39m=\u001b[39m DataSource(destpath)\n\u001b[1;32m--> 193\u001b[0m \u001b[39mreturn\u001b[39;00m ds\u001b[39m.\u001b[39;49mopen(path, mode, encoding\u001b[39m=\u001b[39;49mencoding, newline\u001b[39m=\u001b[39;49mnewline)\n",
      "File \u001b[1;32mc:\\Users\\Tanph\\anaconda3\\envs\\raft\\lib\\site-packages\\numpy\\lib\\_datasource.py:533\u001b[0m, in \u001b[0;36mDataSource.open\u001b[1;34m(self, path, mode, encoding, newline)\u001b[0m\n\u001b[0;32m    530\u001b[0m     \u001b[39mreturn\u001b[39;00m _file_openers[ext](found, mode\u001b[39m=\u001b[39mmode,\n\u001b[0;32m    531\u001b[0m                               encoding\u001b[39m=\u001b[39mencoding, newline\u001b[39m=\u001b[39mnewline)\n\u001b[0;32m    532\u001b[0m \u001b[39melse\u001b[39;00m:\n\u001b[1;32m--> 533\u001b[0m     \u001b[39mraise\u001b[39;00m \u001b[39mFileNotFoundError\u001b[39;00m(\u001b[39mf\u001b[39m\u001b[39m\"\u001b[39m\u001b[39m{\u001b[39;00mpath\u001b[39m}\u001b[39;00m\u001b[39m not found.\u001b[39m\u001b[39m\"\u001b[39m)\n",
      "\u001b[1;31mFileNotFoundError\u001b[0m: a\\speed.csv not found."
     ]
    }
   ],
   "source": [
    "import vista\n",
    "\n",
    "world = vista.World([\"a\"], trace_config={'road_width': 4})\n",
    "car = world.spawn_agent(config={'length': 5.,\n",
    "                                'width': 2.,\n",
    "                                'wheel_base': 2.78,\n",
    "                                'steering_ratio': 14.7,\n",
    "                                'lookahead_road': True})\n",
    "display = vista.Display(world)"
   ]
  }
 ],
 "metadata": {
  "kernelspec": {
   "display_name": "Python 3.8.16 ('vista')",
   "language": "python",
   "name": "python3"
  },
  "language_info": {
   "codemirror_mode": {
    "name": "ipython",
    "version": 3
   },
   "file_extension": ".py",
   "mimetype": "text/x-python",
   "name": "python",
   "nbconvert_exporter": "python",
   "pygments_lexer": "ipython3",
   "version": "3.8.16"
  },
  "orig_nbformat": 4,
  "vscode": {
   "interpreter": {
    "hash": "f9ef3b0e70c3eb89f5d43eb5510e5efb1cea1fa3f666a2d48ba1e6d642156fd3"
   }
  }
 },
 "nbformat": 4,
 "nbformat_minor": 2
}
